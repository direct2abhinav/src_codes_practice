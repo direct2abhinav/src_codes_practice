{
 "cells": [
  {
   "cell_type": "code",
   "execution_count": 3,
   "metadata": {
    "collapsed": false
   },
   "outputs": [],
   "source": [
    "import os\n",
    "import pandas as pd\n",
    "import numpy as np\n",
    "import matplotlib as mp\n",
    "import matplotlib.pyplot as plt\n",
    "import seaborn as sns\n",
    "import matplotlib.patches as mpatches\n",
    "% matplotlib inline\n",
    "\n",
    "import datetime\n",
    "\n",
    "import pandasql as pdsql\n",
    "\n",
    "pysqldf = lambda q: pdsql.sqldf(q, globals())\n",
    "\n"
   ]
  },
  {
   "cell_type": "code",
   "execution_count": null,
   "metadata": {
    "collapsed": false
   },
   "outputs": [],
   "source": [
    "tr_set = pd.read_csv('../data/train_mart.csv')\n"
   ]
  },
  {
   "cell_type": "code",
   "execution_count": null,
   "metadata": {
    "collapsed": false,
    "scrolled": true
   },
   "outputs": [],
   "source": [
    "tr_set.head(5)\n",
    "\n",
    "ot_cols = tr_set.columns[6:-1]\n",
    "\n",
    "ot = tr_set[ot_cols]\n",
    "\n",
    "ot.drop_duplicates(inplace = True)\n",
    "\n",
    "ot.to_csv('../data/outlet_data.csv', index = False)\n"
   ]
  },
  {
   "cell_type": "code",
   "execution_count": null,
   "metadata": {
    "collapsed": false,
    "scrolled": true
   },
   "outputs": [],
   "source": [
    "fig, ax = plt.subplots(1,1)\n",
    "\n",
    "sns.set_style(\"whitegrid\")\n",
    "\n",
    "yy = ot['Outlet_Establishment_Year'].value_counts().values.tolist()\n",
    "xx = ot['Outlet_Establishment_Year'].value_counts().index.tolist()\n",
    "\n",
    "\n",
    "sns.barplot(x=xx, y= yy, ax = ax)\n",
    "\n",
    "ot\n",
    "#"
   ]
  },
  {
   "cell_type": "code",
   "execution_count": null,
   "metadata": {
    "collapsed": false
   },
   "outputs": [],
   "source": [
    "##### fig = plt.figure(figsize = (15,15))\n",
    "#ax = fig.add_subplot(2,2,4,xticklabels=['a','b','c','d','e'], xlabel = 'abcd', ylabel = 'abcbd', title = 'check')\n",
    "#ax1 = fig.add_subplot(2,2,2,xticklabels=['a','b','c','d','e'], xlabel = 'abcd', ylabel = 'abcbd', title = 'check')\n",
    "#fig.add_axes([0,0,1,1])\n",
    "\n",
    "fig, ax = plt.subplots(2,2, figsize = (8,10))\n",
    "\n",
    "ax[0][0]= plt.subplot2grid((2,2), (0, 0), colspan=2)\n",
    "lbls = ['aaaaaa','bbbbbbb','cbbbbbbb','dbbbbbb','ebbbbbb','fbbbbbbb']\n",
    "ax[0][0].set_title('Simple plot')\n",
    "ax[0][0].set_xlabel('abccd', fontsize= 11)\n",
    "ax[0][0].set_ylabel('font')\n",
    "ax[0][0].set_xticklabels(lbls,minor=False,fontsize=10, rotation = 40,ha = 'right', color = 'blue')\n",
    "ax[0][0].annotate('local max', xy=(0.1, 0.6), xytext=(0.6, 0.8),arrowprops=dict(facecolor='black', shrink=0.08))\n",
    "ax[0][0].grid(True) # -- sets grid on plot\n",
    "#ax[0][0].legend(handles, labels)  # -- returns legend object and labels\n",
    "\n",
    "\n",
    "\n",
    "l1,=ax[0][1].plot([1,2,3], label='Line 1')\n",
    "l2=ax[0][1].plot([3,2,1], label='Line 2')\n",
    "l1.set_label('Label via method')\n",
    "ax[0][1].legend((l2),('LL'))\n",
    "\n",
    "\n",
    "\n",
    "ax[1][1].set_title('Simple plot')\n",
    "ax[1][1].get_xlim()     # -- gets the scale frequency on axis\n",
    "ax[1][1].xaxis.set_ticks(np.arange(0,12,2))  # -- set new tick frequency\n",
    "ax[1][1].set_xlabel('abccd')\n",
    "ax[1][1].text(4, 0.6,'boxed italics text in data coords', style='italic',bbox={'facecolor':'red','alpha':0.5,'pad':10})\n",
    "\n",
    "\n",
    "#fig.subplots_adjust(left = 0.5 ,right = 1, bottom = 0.5, top = 1,hspace = 0.4, wspace = 0.2)\n",
    "#fig.suptitle('testing figures', x = 0.75, y = 1.05, horizontalalignment= 'center', verticalalignment= 'top', fontsize=15)\n",
    "fig.tight_layout()  # -- enforces subplot to stay in figure and removes overlapping and cutting of lables\n",
    "\n"
   ]
  },
  {
   "cell_type": "code",
   "execution_count": null,
   "metadata": {
    "collapsed": false
   },
   "outputs": [],
   "source": [
    "tr_loan = pd.read_csv('../data/train_loan.csv')\n",
    "tst_loan = pd.read_csv('../data/test_loan.csv')"
   ]
  },
  {
   "cell_type": "code",
   "execution_count": null,
   "metadata": {
    "collapsed": false
   },
   "outputs": [],
   "source": [
    "tst_loan.shape"
   ]
  },
  {
   "cell_type": "code",
   "execution_count": null,
   "metadata": {
    "collapsed": false,
    "scrolled": true
   },
   "outputs": [],
   "source": [
    "sns.boxplot(tr_loan.Gender, tr_loan.ApplicantIncome)"
   ]
  },
  {
   "cell_type": "code",
   "execution_count": null,
   "metadata": {
    "collapsed": false
   },
   "outputs": [],
   "source": [
    "tr_loan['Property_Area'].value_counts()\n",
    "\n",
    "#tr_loan['ApplicantIncome'].hist(bins=50)\n",
    "\n",
    "tr_loan.boxplot(column='ApplicantIncome', by = 'Education')\n",
    "\n",
    "tb = pd.crosstab([tr_loan.Education,tr_loan.Self_Employed], tr_loan.Loan_Status)"
   ]
  },
  {
   "cell_type": "code",
   "execution_count": null,
   "metadata": {
    "collapsed": false
   },
   "outputs": [],
   "source": [
    "\n",
    "temp1 = tr_loan['Credit_History'].value_counts(ascending=True)\n",
    "\n",
    "temp2 = tr_loan.pivot_table(values='Loan_Status',index=['Credit_History'],aggfunc=lambda x: x.map({'Y':1,'N':0}).mean())\n",
    "d = {'Y':1,'N':0}\n",
    "\n",
    "tb.plot(kind='bar', stacked=True, color=['red','blue'], grid=False)\n",
    "#tr_loan['Loan_Status_new'] = tr_loan['Loan_Status'].map(d)"
   ]
  },
  {
   "cell_type": "code",
   "execution_count": null,
   "metadata": {
    "collapsed": false,
    "scrolled": true
   },
   "outputs": [],
   "source": [
    "tr_loan"
   ]
  },
  {
   "cell_type": "code",
   "execution_count": null,
   "metadata": {
    "collapsed": false
   },
   "outputs": [],
   "source": [
    "a = pd.DataFrame({'a':[np.NaN,2,3,4]})\n",
    "\n",
    "ip = tr_loan.pivot_table(values=[\"LoanAmount\"], index=[\"Gender\",\"Married\",\"Self_Employed\"], aggfunc=np.mean)\n",
    "\n",
    "tr_loan.apply(lambda x: sum(x.isnull()),axis=0) "
   ]
  },
  {
   "cell_type": "code",
   "execution_count": null,
   "metadata": {
    "collapsed": true
   },
   "outputs": [],
   "source": [
    "tr_loan['LoanAmount_log'] = np.log(tr_loan['LoanAmount'])"
   ]
  },
  {
   "cell_type": "code",
   "execution_count": null,
   "metadata": {
    "collapsed": false,
    "scrolled": true
   },
   "outputs": [],
   "source": [
    "tr_loan"
   ]
  },
  {
   "cell_type": "code",
   "execution_count": 1,
   "metadata": {
    "collapsed": false,
    "scrolled": true
   },
   "outputs": [
    {
     "ename": "NameError",
     "evalue": "name 'tr_loan' is not defined",
     "output_type": "error",
     "traceback": [
      "\u001b[1;31m---------------------------------------------------------------------------\u001b[0m",
      "\u001b[1;31mNameError\u001b[0m                                 Traceback (most recent call last)",
      "\u001b[1;32m<ipython-input-1-c3a6593c6455>\u001b[0m in \u001b[0;36m<module>\u001b[1;34m()\u001b[0m\n\u001b[0;32m      6\u001b[0m \u001b[1;33m\u001b[0m\u001b[0m\n\u001b[0;32m      7\u001b[0m \u001b[1;31m#for i in var_mod[:1]:\u001b[0m\u001b[1;33m\u001b[0m\u001b[1;33m\u001b[0m\u001b[0m\n\u001b[1;32m----> 8\u001b[1;33m \u001b[0mtr_loan\u001b[0m\u001b[1;33m[\u001b[0m\u001b[1;34m'Married_new'\u001b[0m\u001b[1;33m]\u001b[0m \u001b[1;33m=\u001b[0m \u001b[0mle\u001b[0m\u001b[1;33m.\u001b[0m\u001b[0mfit_transform\u001b[0m\u001b[1;33m(\u001b[0m\u001b[0mtr_loan\u001b[0m\u001b[1;33m[\u001b[0m\u001b[1;34m'Married'\u001b[0m\u001b[1;33m]\u001b[0m\u001b[1;33m)\u001b[0m\u001b[1;33m\u001b[0m\u001b[0m\n\u001b[0m",
      "\u001b[1;31mNameError\u001b[0m: name 'tr_loan' is not defined"
     ]
    }
   ],
   "source": [
    "from sklearn.preprocessing import LabelEncoder\n",
    "\n",
    "var_mod = ['Gender','Married','Dependents','Education','Self_Employed','Property_Area','Loan_Status']\n",
    "\n",
    "le = LabelEncoder()\n",
    "\n",
    "#for i in var_mod[:1]:\n",
    "tr_loan['Married_new'] = le.fit_transform(tr_loan['Married'])"
   ]
  },
  {
   "cell_type": "code",
   "execution_count": 241,
   "metadata": {
    "collapsed": false
   },
   "outputs": [],
   "source": [
    "\n",
    "\n",
    "a = pd.DataFrame({\"org_id\":['o1','o1','o1','o2','o2'], \"jc_code\":[2010,2013,2015,2011,2016], \"created\":[1,2,4,2,5]})\n",
    "\n",
    "b = pd.DataFrame({\"org_id\":['o1','o1','o2'], \"bd_code\":[2010,2015,2015]})\n"
   ]
  },
  {
   "cell_type": "code",
   "execution_count": 49,
   "metadata": {
    "collapsed": false
   },
   "outputs": [],
   "source": [
    "\n",
    "a['gap'] = a.groupby('org_id')['jc_code'].diff()\n",
    "a['gap'] = a['gap'] - 1\n",
    "a.fillna(0,inplace=True)\n",
    "a['gap'] = a.groupby('org_id')['gap'].cumsum()\n",
    "\n",
    "# --------------------------------------------------------\n",
    "\n",
    "nw = a.merge(b , how = 'outer', on = 'org_id')\n",
    "nw['dif'] = nw['bd_code'] - nw['jc_code']\n",
    "nw = nw[nw['dif']>=0]\n",
    "nw.sort_values(by = ['org_id','bd_code','dif'], inplace =True)\n",
    "nw.drop_duplicates(subset = ['org_id','bd_code'], inplace = True)\n",
    "nw['dif'][nw['dif']>0] = nw['dif'] - 1\n",
    "nw['gap'] = nw['gap']+nw['dif']\n",
    "del nw['jc_code']\n",
    "del nw['dif']\n",
    "\n"
   ]
  },
  {
   "cell_type": "code",
   "execution_count": null,
   "metadata": {
    "collapsed": true
   },
   "outputs": [],
   "source": []
  },
  {
   "cell_type": "code",
   "execution_count": null,
   "metadata": {
    "collapsed": true
   },
   "outputs": [],
   "source": []
  },
  {
   "cell_type": "code",
   "execution_count": 242,
   "metadata": {
    "collapsed": false
   },
   "outputs": [
    {
     "name": "stderr",
     "output_type": "stream",
     "text": [
      "/home/abhinav/anaconda2/lib/python2.7/site-packages/ipykernel/__main__.py:11: SettingWithCopyWarning: \n",
      "A value is trying to be set on a copy of a slice from a DataFrame\n",
      "\n",
      "See the caveats in the documentation: http://pandas.pydata.org/pandas-docs/stable/indexing.html#indexing-view-versus-copy\n"
     ]
    }
   ],
   "source": [
    "\n",
    "a = pd.DataFrame({'org_id':[]})\n"
   ]
  },
  {
   "cell_type": "code",
   "execution_count": 243,
   "metadata": {
    "collapsed": false
   },
   "outputs": [
    {
     "data": {
      "text/html": [
       "<div>\n",
       "<table border=\"1\" class=\"dataframe\">\n",
       "  <thead>\n",
       "    <tr style=\"text-align: right;\">\n",
       "      <th></th>\n",
       "      <th>created</th>\n",
       "      <th>jc_code</th>\n",
       "      <th>org_id</th>\n",
       "      <th>bd_code</th>\n",
       "      <th>yr_el</th>\n",
       "      <th>exp</th>\n",
       "    </tr>\n",
       "  </thead>\n",
       "  <tbody>\n",
       "    <tr>\n",
       "      <th>0</th>\n",
       "      <td>1</td>\n",
       "      <td>2010</td>\n",
       "      <td>o1</td>\n",
       "      <td>2010</td>\n",
       "      <td>0</td>\n",
       "      <td>0.0</td>\n",
       "    </tr>\n",
       "    <tr>\n",
       "      <th>3</th>\n",
       "      <td>3</td>\n",
       "      <td>2013</td>\n",
       "      <td>o1</td>\n",
       "      <td>2015</td>\n",
       "      <td>5</td>\n",
       "      <td>0.6</td>\n",
       "    </tr>\n",
       "    <tr>\n",
       "      <th>6</th>\n",
       "      <td>2</td>\n",
       "      <td>2011</td>\n",
       "      <td>o2</td>\n",
       "      <td>2015</td>\n",
       "      <td>4</td>\n",
       "      <td>0.5</td>\n",
       "    </tr>\n",
       "  </tbody>\n",
       "</table>\n",
       "</div>"
      ],
      "text/plain": [
       "   created  jc_code org_id  bd_code  yr_el  exp\n",
       "0        1     2010     o1     2010      0  0.0\n",
       "3        3     2013     o1     2015      5  0.6\n",
       "6        2     2011     o2     2015      4  0.5"
      ]
     },
     "execution_count": 243,
     "metadata": {},
     "output_type": "execute_result"
    }
   ],
   "source": [
    "nw"
   ]
  },
  {
   "cell_type": "code",
   "execution_count": null,
   "metadata": {
    "collapsed": true
   },
   "outputs": [],
   "source": []
  }
 ],
 "metadata": {
  "kernelspec": {
   "display_name": "Python 2",
   "language": "python",
   "name": "python2"
  },
  "language_info": {
   "codemirror_mode": {
    "name": "ipython",
    "version": 2
   },
   "file_extension": ".py",
   "mimetype": "text/x-python",
   "name": "python",
   "nbconvert_exporter": "python",
   "pygments_lexer": "ipython2",
   "version": "2.7.11"
  }
 },
 "nbformat": 4,
 "nbformat_minor": 0
}
